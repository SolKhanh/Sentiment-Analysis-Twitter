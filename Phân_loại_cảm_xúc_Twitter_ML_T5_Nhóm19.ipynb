{
  "nbformat": 4,
  "nbformat_minor": 0,
  "metadata": {
    "colab": {
      "provenance": [],
      "authorship_tag": "ABX9TyPQ6KZywMEnIG5pUbbjbc6l",
      "include_colab_link": true
    },
    "kernelspec": {
      "name": "python3",
      "display_name": "Python 3"
    },
    "language_info": {
      "name": "python"
    }
  },
  "cells": [
    {
      "cell_type": "markdown",
      "metadata": {
        "id": "view-in-github",
        "colab_type": "text"
      },
      "source": [
        "<a href=\"https://colab.research.google.com/github/SolKhanh/Sentiment-Analysis-Twitter/blob/main/Ph%C3%A2n_lo%E1%BA%A1i_c%E1%BA%A3m_x%C3%BAc_Twitter_ML_T5_Nh%C3%B3m19.ipynb\" target=\"_parent\"><img src=\"https://colab.research.google.com/assets/colab-badge.svg\" alt=\"Open In Colab\"/></a>"
      ]
    },
    {
      "cell_type": "code",
      "execution_count": 127,
      "metadata": {
        "id": "dP0_x36ndhPb"
      },
      "outputs": [],
      "source": [
        "import pandas as pd\n",
        "import numpy as np\n",
        "import matplotlib.pyplot as plt\n",
        "import seaborn as sns\n",
        "from sklearn.model_selection import train_test_split\n",
        "from sklearn.metrics import classification_report, confusion_matrix, ConfusionMatrixDisplay\n",
        "import tensorflow as tf\n",
        "from tensorflow.keras.preprocessing.text import Tokenizer\n",
        "from tensorflow.keras.preprocessing.sequence import pad_sequences\n",
        "from tensorflow.keras.utils import to_categorical\n",
        "import re\n",
        "import nltk\n",
        "from nltk.corpus import stopwords\n",
        "from nltk.stem import WordNetLemmatizer\n",
        "from tensorflow.keras.preprocessing.text import Tokenizer\n",
        "from tensorflow.keras.preprocessing.sequence import pad_sequences\n",
        "from tensorflow.keras.models import Sequential\n",
        "from tensorflow.keras.layers import LSTM, Dense, Embedding\n",
        "from sklearn.svm import SVC\n",
        "from sklearn.feature_extraction.text import TfidfVectorizer\n",
        "from sklearn.naive_bayes import MultinomialNB\n",
        "from sklearn.pipeline import Pipeline"
      ]
    },
    {
      "cell_type": "code",
      "source": [
        "from google.colab import drive\n",
        "drive.mount('/content/gdrive')\n",
        "%cd '/content/gdrive/MyDrive/ML'"
      ],
      "metadata": {
        "colab": {
          "base_uri": "https://localhost:8080/"
        },
        "id": "ZwFqQ4D1ekrC",
        "outputId": "458c38a4-af10-4dfe-d2b3-116c39d005b6"
      },
      "execution_count": 3,
      "outputs": [
        {
          "output_type": "stream",
          "name": "stdout",
          "text": [
            "Mounted at /content/gdrive\n",
            "/content/gdrive/MyDrive/ML\n"
          ]
        }
      ]
    },
    {
      "cell_type": "markdown",
      "source": [
        "Đọc dữ liệu từ dataset và giảm kích thước xuống còn 10000"
      ],
      "metadata": {
        "id": "plMIpvjlh0Pm"
      }
    },
    {
      "cell_type": "code",
      "source": [
        "df_full = pd.read_csv('Sentiment140.csv', encoding='latin1')\n",
        "df = df_full.sample(n=10000, random_state=1)\n",
        "print(\"Kích thước mẫu dữ liệu:\",df.shape)\n",
        "\n",
        "df.columns = ['target', 'ids', 'date', 'flag', 'user', 'text']\n",
        "# object trong pandas đại diện cho chuỗi\n",
        "print(\"Kiểu dữ liệu\\n\",df.dtypes)\n",
        "df = df[['target','text']]\n",
        "# Tạo cột Sentiment để đánh giá cảm xúc, không dùng label encoder để dễ nhìn\n",
        "sentiment_map = {0: \"- Tiêu cực\", 2: \"Trung lập\", 4: \"+ Tích cực\"}\n",
        "def convert_label(x):\n",
        "  return sentiment_map[x]\n",
        "df['Cảm xúc'] = df['target'].apply(convert_label)\n",
        "df.head()"
      ],
      "metadata": {
        "colab": {
          "base_uri": "https://localhost:8080/",
          "height": 362
        },
        "id": "rwsYGBcyevH5",
        "outputId": "de8214b3-25df-4695-e402-f8da9aedff25"
      },
      "execution_count": 79,
      "outputs": [
        {
          "output_type": "stream",
          "name": "stdout",
          "text": [
            "Kích thước mẫu dữ liệu: (10000, 6)\n",
            "Kiểu dữ liệu\n",
            " target     int64\n",
            "ids        int64\n",
            "date      object\n",
            "flag      object\n",
            "user      object\n",
            "text      object\n",
            "dtype: object\n"
          ]
        },
        {
          "output_type": "execute_result",
          "data": {
            "text/plain": [
              "         target                                               text     Cảm xúc\n",
              "120640        0  i have to write a speech on &quot;speeches&quo...  - Tiêu cực\n",
              "189703        0  Yeah, this is just great, sick in the middle o...  - Tiêu cực\n",
              "1595284       4  anyway, gotta go.. CSI: NY up next and I have ...  + Tích cực\n",
              "1021096       4  @skimhannahkeys @AliciaSkimbit i like your app...  + Tích cực\n",
              "98291         0  @Lolene ummmmm.... U disappeared... So much fo...  - Tiêu cực"
            ],
            "text/html": [
              "\n",
              "  <div id=\"df-5647baf9-2431-4aa9-9ac8-c719f0176443\" class=\"colab-df-container\">\n",
              "    <div>\n",
              "<style scoped>\n",
              "    .dataframe tbody tr th:only-of-type {\n",
              "        vertical-align: middle;\n",
              "    }\n",
              "\n",
              "    .dataframe tbody tr th {\n",
              "        vertical-align: top;\n",
              "    }\n",
              "\n",
              "    .dataframe thead th {\n",
              "        text-align: right;\n",
              "    }\n",
              "</style>\n",
              "<table border=\"1\" class=\"dataframe\">\n",
              "  <thead>\n",
              "    <tr style=\"text-align: right;\">\n",
              "      <th></th>\n",
              "      <th>target</th>\n",
              "      <th>text</th>\n",
              "      <th>Cảm xúc</th>\n",
              "    </tr>\n",
              "  </thead>\n",
              "  <tbody>\n",
              "    <tr>\n",
              "      <th>120640</th>\n",
              "      <td>0</td>\n",
              "      <td>i have to write a speech on &amp;quot;speeches&amp;quo...</td>\n",
              "      <td>- Tiêu cực</td>\n",
              "    </tr>\n",
              "    <tr>\n",
              "      <th>189703</th>\n",
              "      <td>0</td>\n",
              "      <td>Yeah, this is just great, sick in the middle o...</td>\n",
              "      <td>- Tiêu cực</td>\n",
              "    </tr>\n",
              "    <tr>\n",
              "      <th>1595284</th>\n",
              "      <td>4</td>\n",
              "      <td>anyway, gotta go.. CSI: NY up next and I have ...</td>\n",
              "      <td>+ Tích cực</td>\n",
              "    </tr>\n",
              "    <tr>\n",
              "      <th>1021096</th>\n",
              "      <td>4</td>\n",
              "      <td>@skimhannahkeys @AliciaSkimbit i like your app...</td>\n",
              "      <td>+ Tích cực</td>\n",
              "    </tr>\n",
              "    <tr>\n",
              "      <th>98291</th>\n",
              "      <td>0</td>\n",
              "      <td>@Lolene ummmmm.... U disappeared... So much fo...</td>\n",
              "      <td>- Tiêu cực</td>\n",
              "    </tr>\n",
              "  </tbody>\n",
              "</table>\n",
              "</div>\n",
              "    <div class=\"colab-df-buttons\">\n",
              "\n",
              "  <div class=\"colab-df-container\">\n",
              "    <button class=\"colab-df-convert\" onclick=\"convertToInteractive('df-5647baf9-2431-4aa9-9ac8-c719f0176443')\"\n",
              "            title=\"Convert this dataframe to an interactive table.\"\n",
              "            style=\"display:none;\">\n",
              "\n",
              "  <svg xmlns=\"http://www.w3.org/2000/svg\" height=\"24px\" viewBox=\"0 -960 960 960\">\n",
              "    <path d=\"M120-120v-720h720v720H120Zm60-500h600v-160H180v160Zm220 220h160v-160H400v160Zm0 220h160v-160H400v160ZM180-400h160v-160H180v160Zm440 0h160v-160H620v160ZM180-180h160v-160H180v160Zm440 0h160v-160H620v160Z\"/>\n",
              "  </svg>\n",
              "    </button>\n",
              "\n",
              "  <style>\n",
              "    .colab-df-container {\n",
              "      display:flex;\n",
              "      gap: 12px;\n",
              "    }\n",
              "\n",
              "    .colab-df-convert {\n",
              "      background-color: #E8F0FE;\n",
              "      border: none;\n",
              "      border-radius: 50%;\n",
              "      cursor: pointer;\n",
              "      display: none;\n",
              "      fill: #1967D2;\n",
              "      height: 32px;\n",
              "      padding: 0 0 0 0;\n",
              "      width: 32px;\n",
              "    }\n",
              "\n",
              "    .colab-df-convert:hover {\n",
              "      background-color: #E2EBFA;\n",
              "      box-shadow: 0px 1px 2px rgba(60, 64, 67, 0.3), 0px 1px 3px 1px rgba(60, 64, 67, 0.15);\n",
              "      fill: #174EA6;\n",
              "    }\n",
              "\n",
              "    .colab-df-buttons div {\n",
              "      margin-bottom: 4px;\n",
              "    }\n",
              "\n",
              "    [theme=dark] .colab-df-convert {\n",
              "      background-color: #3B4455;\n",
              "      fill: #D2E3FC;\n",
              "    }\n",
              "\n",
              "    [theme=dark] .colab-df-convert:hover {\n",
              "      background-color: #434B5C;\n",
              "      box-shadow: 0px 1px 3px 1px rgba(0, 0, 0, 0.15);\n",
              "      filter: drop-shadow(0px 1px 2px rgba(0, 0, 0, 0.3));\n",
              "      fill: #FFFFFF;\n",
              "    }\n",
              "  </style>\n",
              "\n",
              "    <script>\n",
              "      const buttonEl =\n",
              "        document.querySelector('#df-5647baf9-2431-4aa9-9ac8-c719f0176443 button.colab-df-convert');\n",
              "      buttonEl.style.display =\n",
              "        google.colab.kernel.accessAllowed ? 'block' : 'none';\n",
              "\n",
              "      async function convertToInteractive(key) {\n",
              "        const element = document.querySelector('#df-5647baf9-2431-4aa9-9ac8-c719f0176443');\n",
              "        const dataTable =\n",
              "          await google.colab.kernel.invokeFunction('convertToInteractive',\n",
              "                                                    [key], {});\n",
              "        if (!dataTable) return;\n",
              "\n",
              "        const docLinkHtml = 'Like what you see? Visit the ' +\n",
              "          '<a target=\"_blank\" href=https://colab.research.google.com/notebooks/data_table.ipynb>data table notebook</a>'\n",
              "          + ' to learn more about interactive tables.';\n",
              "        element.innerHTML = '';\n",
              "        dataTable['output_type'] = 'display_data';\n",
              "        await google.colab.output.renderOutput(dataTable, element);\n",
              "        const docLink = document.createElement('div');\n",
              "        docLink.innerHTML = docLinkHtml;\n",
              "        element.appendChild(docLink);\n",
              "      }\n",
              "    </script>\n",
              "  </div>\n",
              "\n",
              "\n",
              "<div id=\"df-a97aeb01-7647-4885-8f6d-b5614edd7111\">\n",
              "  <button class=\"colab-df-quickchart\" onclick=\"quickchart('df-a97aeb01-7647-4885-8f6d-b5614edd7111')\"\n",
              "            title=\"Suggest charts\"\n",
              "            style=\"display:none;\">\n",
              "\n",
              "<svg xmlns=\"http://www.w3.org/2000/svg\" height=\"24px\"viewBox=\"0 0 24 24\"\n",
              "     width=\"24px\">\n",
              "    <g>\n",
              "        <path d=\"M19 3H5c-1.1 0-2 .9-2 2v14c0 1.1.9 2 2 2h14c1.1 0 2-.9 2-2V5c0-1.1-.9-2-2-2zM9 17H7v-7h2v7zm4 0h-2V7h2v10zm4 0h-2v-4h2v4z\"/>\n",
              "    </g>\n",
              "</svg>\n",
              "  </button>\n",
              "\n",
              "<style>\n",
              "  .colab-df-quickchart {\n",
              "      --bg-color: #E8F0FE;\n",
              "      --fill-color: #1967D2;\n",
              "      --hover-bg-color: #E2EBFA;\n",
              "      --hover-fill-color: #174EA6;\n",
              "      --disabled-fill-color: #AAA;\n",
              "      --disabled-bg-color: #DDD;\n",
              "  }\n",
              "\n",
              "  [theme=dark] .colab-df-quickchart {\n",
              "      --bg-color: #3B4455;\n",
              "      --fill-color: #D2E3FC;\n",
              "      --hover-bg-color: #434B5C;\n",
              "      --hover-fill-color: #FFFFFF;\n",
              "      --disabled-bg-color: #3B4455;\n",
              "      --disabled-fill-color: #666;\n",
              "  }\n",
              "\n",
              "  .colab-df-quickchart {\n",
              "    background-color: var(--bg-color);\n",
              "    border: none;\n",
              "    border-radius: 50%;\n",
              "    cursor: pointer;\n",
              "    display: none;\n",
              "    fill: var(--fill-color);\n",
              "    height: 32px;\n",
              "    padding: 0;\n",
              "    width: 32px;\n",
              "  }\n",
              "\n",
              "  .colab-df-quickchart:hover {\n",
              "    background-color: var(--hover-bg-color);\n",
              "    box-shadow: 0 1px 2px rgba(60, 64, 67, 0.3), 0 1px 3px 1px rgba(60, 64, 67, 0.15);\n",
              "    fill: var(--button-hover-fill-color);\n",
              "  }\n",
              "\n",
              "  .colab-df-quickchart-complete:disabled,\n",
              "  .colab-df-quickchart-complete:disabled:hover {\n",
              "    background-color: var(--disabled-bg-color);\n",
              "    fill: var(--disabled-fill-color);\n",
              "    box-shadow: none;\n",
              "  }\n",
              "\n",
              "  .colab-df-spinner {\n",
              "    border: 2px solid var(--fill-color);\n",
              "    border-color: transparent;\n",
              "    border-bottom-color: var(--fill-color);\n",
              "    animation:\n",
              "      spin 1s steps(1) infinite;\n",
              "  }\n",
              "\n",
              "  @keyframes spin {\n",
              "    0% {\n",
              "      border-color: transparent;\n",
              "      border-bottom-color: var(--fill-color);\n",
              "      border-left-color: var(--fill-color);\n",
              "    }\n",
              "    20% {\n",
              "      border-color: transparent;\n",
              "      border-left-color: var(--fill-color);\n",
              "      border-top-color: var(--fill-color);\n",
              "    }\n",
              "    30% {\n",
              "      border-color: transparent;\n",
              "      border-left-color: var(--fill-color);\n",
              "      border-top-color: var(--fill-color);\n",
              "      border-right-color: var(--fill-color);\n",
              "    }\n",
              "    40% {\n",
              "      border-color: transparent;\n",
              "      border-right-color: var(--fill-color);\n",
              "      border-top-color: var(--fill-color);\n",
              "    }\n",
              "    60% {\n",
              "      border-color: transparent;\n",
              "      border-right-color: var(--fill-color);\n",
              "    }\n",
              "    80% {\n",
              "      border-color: transparent;\n",
              "      border-right-color: var(--fill-color);\n",
              "      border-bottom-color: var(--fill-color);\n",
              "    }\n",
              "    90% {\n",
              "      border-color: transparent;\n",
              "      border-bottom-color: var(--fill-color);\n",
              "    }\n",
              "  }\n",
              "</style>\n",
              "\n",
              "  <script>\n",
              "    async function quickchart(key) {\n",
              "      const quickchartButtonEl =\n",
              "        document.querySelector('#' + key + ' button');\n",
              "      quickchartButtonEl.disabled = true;  // To prevent multiple clicks.\n",
              "      quickchartButtonEl.classList.add('colab-df-spinner');\n",
              "      try {\n",
              "        const charts = await google.colab.kernel.invokeFunction(\n",
              "            'suggestCharts', [key], {});\n",
              "      } catch (error) {\n",
              "        console.error('Error during call to suggestCharts:', error);\n",
              "      }\n",
              "      quickchartButtonEl.classList.remove('colab-df-spinner');\n",
              "      quickchartButtonEl.classList.add('colab-df-quickchart-complete');\n",
              "    }\n",
              "    (() => {\n",
              "      let quickchartButtonEl =\n",
              "        document.querySelector('#df-a97aeb01-7647-4885-8f6d-b5614edd7111 button');\n",
              "      quickchartButtonEl.style.display =\n",
              "        google.colab.kernel.accessAllowed ? 'block' : 'none';\n",
              "    })();\n",
              "  </script>\n",
              "</div>\n",
              "\n",
              "    </div>\n",
              "  </div>\n"
            ],
            "application/vnd.google.colaboratory.intrinsic+json": {
              "type": "dataframe",
              "variable_name": "df",
              "summary": "{\n  \"name\": \"df\",\n  \"rows\": 10000,\n  \"fields\": [\n    {\n      \"column\": \"target\",\n      \"properties\": {\n        \"dtype\": \"number\",\n        \"std\": 2,\n        \"min\": 0,\n        \"max\": 4,\n        \"num_unique_values\": 2,\n        \"samples\": [\n          4,\n          0\n        ],\n        \"semantic_type\": \"\",\n        \"description\": \"\"\n      }\n    },\n    {\n      \"column\": \"text\",\n      \"properties\": {\n        \"dtype\": \"string\",\n        \"num_unique_values\": 9998,\n        \"samples\": [\n          \"@KirstieMAllsopp aaaww that sounds absolutely wonderful - rainbows are magical things to see! \",\n          \"@ddlovato I think u should make that perfume, that would be awesome! haha. &quot;Im wearing Death my Demi Lovato, DUH!&quot; lol \"\n        ],\n        \"semantic_type\": \"\",\n        \"description\": \"\"\n      }\n    },\n    {\n      \"column\": \"C\\u1ea3m x\\u00fac\",\n      \"properties\": {\n        \"dtype\": \"category\",\n        \"num_unique_values\": 2,\n        \"samples\": [\n          \"+ T\\u00edch c\\u1ef1c\",\n          \"- Ti\\u00eau c\\u1ef1c\"\n        ],\n        \"semantic_type\": \"\",\n        \"description\": \"\"\n      }\n    }\n  ]\n}"
            }
          },
          "metadata": {},
          "execution_count": 79
        }
      ]
    },
    {
      "cell_type": "code",
      "source": [
        "# Count các giá trị của các tweet\n",
        "target_counts = df['Cảm xúc'].value_counts()\n",
        "print(target_counts)\n",
        "print(\"Missing Values:\")\n",
        "print(df.isnull().sum())\n",
        "print(\"-> Không có Missing Values\")\n",
        "\n",
        "# plot\n",
        "plt.figure(figsize=(4,4))\n",
        "ax = sns.countplot(x='Cảm xúc', data=df)\n",
        "plt.title('Distribution of Sentiment Classes')\n",
        "plt.xlabel('Sentiment')\n",
        "plt.ylabel('Count')\n",
        "\n",
        "#Hiển thị theo %\n",
        "total = len(df)\n",
        "for p in ax.patches:\n",
        "    percentage = f'{100 * p.get_height() / total:.1f}%'\n",
        "    x = p.get_x() + p.get_width() / 2 - 0.05\n",
        "    y = p.get_height()\n",
        "    ax.annotate(percentage, (x, y), ha='center')\n",
        "\n",
        "plt.show()"
      ],
      "metadata": {
        "colab": {
          "base_uri": "https://localhost:8080/",
          "height": 584
        },
        "id": "KFOouLIthqf5",
        "outputId": "bace518e-a141-49d4-8a3a-ebe450b9204a"
      },
      "execution_count": 80,
      "outputs": [
        {
          "output_type": "stream",
          "name": "stdout",
          "text": [
            "Cảm xúc\n",
            "- Tiêu cực    5014\n",
            "+ Tích cực    4986\n",
            "Name: count, dtype: int64\n",
            "Missing Values:\n",
            "target     0\n",
            "text       0\n",
            "Cảm xúc    0\n",
            "dtype: int64\n",
            "-> Không có Missing Values\n"
          ]
        },
        {
          "output_type": "display_data",
          "data": {
            "text/plain": [
              "<Figure size 400x400 with 1 Axes>"
            ],
            "image/png": "[encoded data removed]"
          },
          "metadata": {}
        }
      ]
    },
    {
      "cell_type": "code",
      "source": [
        "# preprocesssing\n",
        "def preprocess_text(text):\n",
        "    text = text.lower() # Chuyển đổi thành chữ thường\n",
        "    text = re.sub(r'http\\S+', '', text) # Xóa URL\n",
        "    text = re.sub(r'@\\w+', '', text) # Xóa tên người dùng\n",
        "    text = re.sub(r'#(\\w+)', r'\\1', text) # xóa dấu '#' trong hashtag\n",
        "    text = re.sub(r'[^a-zA-Z\\s0-9]', '', text) # Xóa ký tự đặc biệt (ngoài chữ và số)\n",
        "    text = re.sub(r'\\s+', ' ', text).strip() # Xóa khoảng trắng thừa\n",
        "    tokens = text.split() # Xóa stopwords\n",
        "    tokens = [lemmatizer.lemmatize(word) for word in tokens if word not in stop_words]\n",
        "    return ' '.join(tokens)\n",
        "df['text'] = df['text'].astype(str)\n",
        "df['text_preprocess'] = df['text'].apply(preprocess_text)\n",
        "\n",
        "# Điều chỉnh nhãn cho phân loại nhị phân (0 cho negative, 1 cho positive)\n",
        "y = df['target'].apply(lambda x: 0 if x == 0 else 1).values\n",
        "\n",
        "# Tokenization và Padding\n",
        "tokenizer = Tokenizer(num_words=2000)\n",
        "tokenizer.fit_on_texts(df['text'])\n",
        "sequences = tokenizer.texts_to_sequences(df['text'])\n",
        "X = pad_sequences(sequences, maxlen=100)\n",
        "print(df[['text','text_preprocess']].head())"
      ],
      "metadata": {
        "colab": {
          "base_uri": "https://localhost:8080/"
        },
        "id": "pzBsIeCZkU5e",
        "outputId": "bcc8aa59-3acc-4609-d0a2-83ab2e582b6d"
      },
      "execution_count": 81,
      "outputs": [
        {
          "output_type": "stream",
          "name": "stdout",
          "text": [
            "                                                      text  \\\n",
            "120640   i have to write a speech on &quot;speeches&quo...   \n",
            "189703   Yeah, this is just great, sick in the middle o...   \n",
            "1595284  anyway, gotta go.. CSI: NY up next and I have ...   \n",
            "1021096  @skimhannahkeys @AliciaSkimbit i like your app...   \n",
            "98291    @Lolene ummmmm.... U disappeared... So much fo...   \n",
            "\n",
            "                                           text_preprocess  \n",
            "120640        write speech quotspeechesquot wtf thanks raz  \n",
            "189703   yeah great sick middle night cant sleepand gon...  \n",
            "1595284  anyway gotta go csi ny next asia memorize tyl ...  \n",
            "1021096  like approach get twitter power 10 promote goo...  \n",
            "98291                       ummmmm u disappeared much nite  \n"
          ]
        }
      ]
    },
    {
      "cell_type": "code",
      "source": [
        "X_train, X_temp, y_train, y_temp = train_test_split(X, y, test_size=0.3, random_state=42)\n",
        "X_val, X_test, y_val, y_test = train_test_split(X_temp, y_temp, test_size=0.5, random_state=42)\n",
        "\n",
        "# Tạo và huấn luyện mô hình LSTM\n",
        "y_train_2d = to_categorical(y_train, num_classes=2)\n",
        "y_val_2d = to_categorical(y_val, num_classes=2)\n",
        "y_test_2d = to_categorical(y_test, num_classes=2)\n",
        "# In kích thước của các tập dữ liệu\n",
        "print('Kích thước X_train:', X_train.shape)\n",
        "print('Kích thước y_train:', y_train.shape)\n",
        "print('Kích thước X_val:', X_val.shape)\n",
        "print('Kích thước y_val:', y_val.shape)\n",
        "print('Kích thước X_test:', X_test.shape)\n",
        "print('Kích thước y_test:', y_test.shape)\n"
      ],
      "metadata": {
        "colab": {
          "base_uri": "https://localhost:8080/"
        },
        "id": "I9iWJIos2fZP",
        "outputId": "2cb2c1d1-2ef2-4b28-d07e-020dce7a2c6c"
      },
      "execution_count": 128,
      "outputs": [
        {
          "output_type": "stream",
          "name": "stdout",
          "text": [
            "Kích thước X_train: (7000, 100)\n",
            "Kích thước y_train: (7000,)\n",
            "Kích thước X_val: (1500, 100)\n",
            "Kích thước y_val: (1500,)\n",
            "Kích thước X_test: (1500, 100)\n",
            "Kích thước y_test: (1500,)\n"
          ]
        }
      ]
    },
    {
      "cell_type": "code",
      "source": [
        "def build_lstm_model(input_length, vocab_size, embedding_dim=50):\n",
        "    model = Sequential()\n",
        "    model.add(Embedding(input_dim=vocab_size, output_dim=embedding_dim, input_length=input_length))\n",
        "    model.add(LSTM(64, return_sequences=False))\n",
        "    model.add(Dense(2, activation='softmax'))\n",
        "    model.compile(loss='categorical_crossentropy', optimizer='adam', metrics=['accuracy'])\n",
        "    return model\n",
        "\n",
        "lstm_model = build_lstm_model(X_train.shape[1], tokenizer.num_words)\n",
        "lstm_history = lstm_model.fit(X_train, y_train_2d, epochs=5, batch_size=64, validation_data=(X_val, y_val_2d), verbose=1)\n",
        "\n",
        "# Đánh giá mô hình trên tập test\n",
        "lstm_eval = lstm_model.evaluate(X_test, y_test_2d, verbose=1)\n",
        "print('LSTM Test accuracy:', lstm_eval[1])\n",
        "\n",
        "lstm_pred_prob = lstm_model.predict(X_test)\n",
        "lstm_pred = np.argmax(lstm_pred_prob, axis=1)\n",
        "y_test_lstm = np.argmax(y_test_2d, axis=1)\n",
        "\n",
        "# Tạo báo cáo phân loại cho LSTM\n",
        "lstm_report = classification_report(y_test_lstm, lstm_pred, target_names=['Negative', 'Positive'])\n",
        "print(\"LSTM:\")\n",
        "print(lstm_report)"
      ],
      "metadata": {
        "colab": {
          "base_uri": "https://localhost:8080/"
        },
        "id": "TQFaRaVQ6n58",
        "outputId": "7758d6af-55b5-416a-c17f-710d0e4f1b0f"
      },
      "execution_count": 129,
      "outputs": [
        {
          "output_type": "stream",
          "name": "stdout",
          "text": [
            "Epoch 1/5\n",
            "110/110 [==============================] - 18s 147ms/step - loss: 0.6300 - accuracy: 0.6334 - val_loss: 0.5642 - val_accuracy: 0.7093\n",
            "Epoch 2/5\n",
            "110/110 [==============================] - 11s 101ms/step - loss: 0.4836 - accuracy: 0.7774 - val_loss: 0.5463 - val_accuracy: 0.7293\n",
            "Epoch 3/5\n",
            "110/110 [==============================] - 11s 99ms/step - loss: 0.4267 - accuracy: 0.8040 - val_loss: 0.5455 - val_accuracy: 0.7347\n",
            "Epoch 4/5\n",
            "110/110 [==============================] - 9s 82ms/step - loss: 0.3912 - accuracy: 0.8296 - val_loss: 0.5457 - val_accuracy: 0.7287\n",
            "Epoch 5/5\n",
            "110/110 [==============================] - 11s 100ms/step - loss: 0.3580 - accuracy: 0.8463 - val_loss: 0.5731 - val_accuracy: 0.7267\n",
            "47/47 [==============================] - 1s 17ms/step - loss: 0.5845 - accuracy: 0.7260\n",
            "LSTM Test accuracy: 0.7260000109672546\n",
            "47/47 [==============================] - 1s 17ms/step\n",
            "LSTM:\n",
            "              precision    recall  f1-score   support\n",
            "\n",
            "    Negative       0.70      0.77      0.73       729\n",
            "    Positive       0.76      0.69      0.72       771\n",
            "\n",
            "    accuracy                           0.73      1500\n",
            "   macro avg       0.73      0.73      0.73      1500\n",
            "weighted avg       0.73      0.73      0.73      1500\n",
            "\n"
          ]
        }
      ]
    },
    {
      "cell_type": "code",
      "source": [
        "X_train, X_temp, y_train, y_temp = train_test_split(df['text_preprocess'], y, test_size=0.3, random_state=42)\n",
        "X_val, X_test, y_val, y_test = train_test_split(X_temp, y_temp, test_size=0.5, random_state=42)\n",
        "svm_pipeline = Pipeline([\n",
        "    ('tfidf', TfidfVectorizer(max_features=2000)),\n",
        "    ('clf', SVC(kernel='linear', random_state=42))\n",
        "])\n",
        "svm_pipeline.fit(X_train, y_train)\n",
        "svm_pred = svm_pipeline.predict(X_test)\n",
        "\n",
        "svm_report = classification_report(y_test, svm_pred, target_names=['Negative', 'Positive'])\n",
        "print(\"SVM:\")\n",
        "print(svm_report)\n",
        "\n",
        "mnb_pipeline = Pipeline([\n",
        "    ('tfidf', TfidfVectorizer(max_features=2000)),\n",
        "    ('clf', MultinomialNB())\n",
        "])\n",
        "\n",
        "mnb_pipeline.fit(X_train, y_train)\n",
        "mnb_pred = mnb_pipeline.predict(X_test)\n",
        "\n",
        "mnb_report = classification_report(y_test, mnb_pred, target_names=['Negative', 'Positive'])\n",
        "print(\"Naive Bayes:\")\n",
        "print(mnb_report)\n"
      ],
      "metadata": {
        "id": "fzPWTEQljNCZ",
        "colab": {
          "base_uri": "https://localhost:8080/"
        },
        "outputId": "996f8cf6-5cfb-4dd8-b8fb-924187d6bffb"
      },
      "execution_count": 130,
      "outputs": [
        {
          "output_type": "stream",
          "name": "stdout",
          "text": [
            "SVM:\n",
            "              precision    recall  f1-score   support\n",
            "\n",
            "    Negative       0.72      0.73      0.72       729\n",
            "    Positive       0.74      0.73      0.73       771\n",
            "\n",
            "    accuracy                           0.73      1500\n",
            "   macro avg       0.73      0.73      0.73      1500\n",
            "weighted avg       0.73      0.73      0.73      1500\n",
            "\n",
            "Naive Bayes:\n",
            "              precision    recall  f1-score   support\n",
            "\n",
            "    Negative       0.69      0.77      0.73       729\n",
            "    Positive       0.76      0.67      0.71       771\n",
            "\n",
            "    accuracy                           0.72      1500\n",
            "   macro avg       0.72      0.72      0.72      1500\n",
            "weighted avg       0.72      0.72      0.72      1500\n",
            "\n"
          ]
        }
      ]
    },
    {
      "cell_type": "code",
      "source": [
        "cm_svm = confusion_matrix(y_test, svm_pred, labels=[0, 1])\n",
        "cm_mnb = confusion_matrix(y_test, mnb_pred, labels=[0, 1])\n",
        "cm_lstm = confusion_matrix(y_test, lstm_pred, labels=[0, 1])\n",
        "\n",
        "fig, axs = plt.subplots(1, 3, figsize=(18, 6))\n",
        "\n",
        "ConfusionMatrixDisplay(cm_svm, display_labels=['Negative', 'Positive']).plot(ax=axs[0], cmap=plt.cm.Blues, values_format='d')\n",
        "axs[0].set_title('SVM Confusion Matrix')\n",
        "\n",
        "ConfusionMatrixDisplay(cm_mnb, display_labels=['Negative', 'Positive']).plot(ax=axs[1], cmap=plt.cm.Greens, values_format='d')\n",
        "axs[1].set_title('Naive Bayes Confusion Matrix')\n",
        "\n",
        "ConfusionMatrixDisplay(cm_lstm, display_labels=['Negative', 'Positive']).plot(ax=axs[2], cmap=plt.cm.Reds, values_format='d')\n",
        "axs[2].set_title('LSTM Confusion Matrix')\n",
        "\n",
        "plt.tight_layout()\n",
        "plt.show()"
      ],
      "metadata": {
        "colab": {
          "base_uri": "https://localhost:8080/",
          "height": 469
        },
        "id": "AS6S0SeW-E-k",
        "outputId": "28a9dfbd-aa70-4708-c689-c9ec7ddec594"
      },
      "execution_count": 132,
      "outputs": [
        {
          "output_type": "display_data",
          "data": {
            "text/plain": [
              "<Figure size 1800x600 with 6 Axes>"
            ],
            "image/png": "[encoded data removed]"
          },
          "metadata": {}
        }
      ]
    }
  ]
}